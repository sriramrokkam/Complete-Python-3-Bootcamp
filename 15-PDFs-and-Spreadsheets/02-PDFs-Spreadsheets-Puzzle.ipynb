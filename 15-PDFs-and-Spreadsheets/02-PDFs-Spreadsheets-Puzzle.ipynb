{
 "cells": [
  {
   "cell_type": "markdown",
   "metadata": {},
   "source": [
    "___\n",
    "\n",
    "<a href='https://www.udemy.com/user/joseportilla/'><img src='../Pierian_Data_Logo.png'/></a>\n",
    "___\n",
    "<center><em>Content Copyright by Pierian Data</em></center>"
   ]
  },
  {
   "cell_type": "markdown",
   "metadata": {},
   "source": [
    "# PDFs and Spreadsheets Puzzle Exercise\n",
    "\n",
    "Let's test your skills, the files needed for this puzzle exercise\n",
    "\n",
    "You will need to work with two files for this exercise and solve the following tasks:\n",
    "\n",
    "* Task One: Use Python to extract the Google Drive link from the .csv file. (Hint: Its along the diagonal from top left to bottom right).\n",
    "* Task Two: Download the PDF from the Google Drive link (we already downloaded it for you just in case you can't download from Google Drive) and find the phone number that is in the document. Note: There are different ways of formatting a phone number!"
   ]
  },
  {
   "cell_type": "markdown",
   "metadata": {},
   "source": [
    "## Task One: Grab the Google Drive Link from .csv File"
   ]
  },
  {
   "cell_type": "code",
   "execution_count": 20,
   "metadata": {
    "collapsed": true
   },
   "outputs": [
    {
     "name": "stdout",
     "output_type": "stream",
     "text": [
      "<_io.TextIOWrapper name='Exercise_Files/find_the_link.csv' mode='r' encoding='utf-8'>\n",
      "<_csv.reader object at 0x1075857e0>\n"
     ]
    },
    {
     "data": {
      "text/plain": [
       "['h',\n",
       " '53',\n",
       " '24',\n",
       " '46',\n",
       " '4',\n",
       " '11',\n",
       " '3',\n",
       " '35',\n",
       " '17',\n",
       " '52',\n",
       " '9',\n",
       " '60',\n",
       " '26',\n",
       " '60',\n",
       " '72',\n",
       " '39',\n",
       " '11',\n",
       " '80',\n",
       " '86',\n",
       " '66',\n",
       " '59',\n",
       " '9',\n",
       " '41',\n",
       " '33',\n",
       " '11',\n",
       " '42',\n",
       " '69',\n",
       " '74',\n",
       " '91',\n",
       " '61',\n",
       " '5',\n",
       " '69',\n",
       " '17',\n",
       " '17',\n",
       " '78',\n",
       " '6',\n",
       " '51',\n",
       " '54',\n",
       " '54',\n",
       " '94',\n",
       " '47',\n",
       " '37',\n",
       " '0',\n",
       " '16',\n",
       " '71',\n",
       " '6',\n",
       " '83',\n",
       " '7',\n",
       " '6',\n",
       " '38',\n",
       " '61',\n",
       " '18',\n",
       " '68',\n",
       " '15',\n",
       " '2',\n",
       " '81',\n",
       " '49',\n",
       " '5',\n",
       " '17',\n",
       " '21',\n",
       " '36',\n",
       " '63',\n",
       " '38',\n",
       " '24',\n",
       " '3',\n",
       " '99']"
      ]
     },
     "execution_count": 20,
     "metadata": {},
     "output_type": "execute_result"
    }
   ],
   "source": [
    "import csv\n",
    "# Open the CSV file\n",
    "csv_file = open(\"Exercise_Files/find_the_link.csv\", 'r')\n",
    "print(csv_file)  # Display the file object to confirm it's opened\n",
    "csv_data = csv.reader(csv_file) # Create a CSV reader object\n",
    "print(csv_data)  # Display the CSV reader object\n",
    "data_lines = list(csv_data) # Convert the CSV reader object to a list\n",
    "data_lines[0]"
   ]
  },
  {
   "cell_type": "code",
   "execution_count": 14,
   "metadata": {},
   "outputs": [
    {
     "data": {
      "text/plain": [
       "'https://drive.google.com/open?id=1G6SEgg018UB4_4xsAJJ5TdzrhmXipr4Q'"
      ]
     },
     "execution_count": 14,
     "metadata": {},
     "output_type": "execute_result"
    }
   ],
   "source": [
    "# THe correct result is shown below, if you can't download from Google Drive, \n",
    "# we added the PDF file to the Exercise_Files folder already"
   ]
  },
  {
   "cell_type": "markdown",
   "metadata": {},
   "source": [
    "## Task Two: Download the PDF from the Google Drive link and find the phone number that is in the document. "
   ]
  },
  {
   "cell_type": "code",
   "execution_count": null,
   "metadata": {
    "collapsed": true
   },
   "outputs": [],
   "source": [
    "# You should get this phone number\n",
    "# 505 503 4455"
   ]
  },
  {
   "cell_type": "code",
   "execution_count": 29,
   "metadata": {},
   "outputs": [
    {
     "name": "stdout",
     "output_type": "stream",
     "text": [
      "Requirement already satisfied: PyPDF2 in /opt/homebrew/lib/python3.11/site-packages (3.0.1)\n",
      "Note: you may need to restart the kernel to use updated packages.\n",
      "{'/Type': '/Page', '/Parent': IndirectObject(2, 0, 4421621584), '/Resources': {'/Font': {'/F1': IndirectObject(5, 0, 4421621584), '/F2': IndirectObject(9, 0, 4421621584), '/F3': IndirectObject(11, 0, 4421621584)}, '/ExtGState': {'/GS7': IndirectObject(7, 0, 4421621584), '/GS8': IndirectObject(8, 0, 4421621584)}, '/ProcSet': ['/PDF', '/Text', '/ImageB', '/ImageC', '/ImageI']}, '/MediaBox': [0, 0, 612, 792], '/Contents': IndirectObject(4, 0, 4421621584), '/Group': {'/Type': '/Group', '/S': '/Transparency', '/CS': '/DeviceRGB'}, '/Tabs': '/S', '/StructParents': 0}\n",
      "Business Deliverables  \n",
      " \n",
      " \n",
      "Staff engagement touch base yet can I just chime in on that one draw a line in the sand \n",
      "this proposal is a win -win situation which will cause a stellar paradigm shift, and \n",
      "produce a multi -fold increase in deliverables but future -proof. I dont care if you got some \n",
      "copy, why you dont use officeipsumcom or something like that ? low -hanging fruit beef \n",
      "up, and optimize for search or we need to leverage our synergies. We need to make the \n",
      "new version clean and sexy bells and whist les, so meeting assassin, and execute . \n",
      "Baseline the procedure and samepage your department push back yet strategic high -\n",
      "level 30,000 ft view powerPointless, but deliverables nor circle back. Paddle on both \n",
      "sides conversational content win -win-win nor pig in a python overcome key issues to \n",
      "meet key milestones. Personal development crisp ppt deep dive. Can we parallel path \n",
      "blue sky and this proposal is a win -win situation which will cause a stellar paradigm \n",
      "shift, and produce a multi -fold increase in deliver ables. Where the metal hits the meat \n",
      "horsehead offer. Onward and upward, productize the deliverables and focus on the \n",
      "bottom line we’re starting to formalize flexible opinions around our foundations so \n",
      "knowledge process outsourcing. Slow -walk our commitmen t synergize productive \n",
      "mindfulness so high turnaround rate we need to harvest synergy effects. Who's the goto \n",
      "on this job with the way forward tbrand terrorists. Your work on this project has been \n",
      "really impactful. Pushback quantity shoot me an email so si ngle wringable neck hit the \n",
      "ground running i’ve been doing some research this morning and we need to better. Roll \n",
      "back strategy move the needle digitalize. Create spaces to explore what’s next. \n",
      "Performance review let's not solutionize this right now parkin g lot it so win -win-win and \n",
      "fast track gain traction. At the end of the day player -coach nor we need to leverage our \n",
      "synergies. Can we take this offline vec we've bootstrapped the model nor feature creep.  \n",
      " \n",
      " \n",
      "Churning anomalies. Face time. Are we in agreeanc e 60% to 30% is a lot of persent no \n",
      "scraps hit the floor, nor critical mass. Can you run this by clearance? hot johnny coming \n",
      "through . This proposal is a win -win situation which will cause a stellar paradigm shift, \n",
      "and produce a multi -fold increase in del iverables we need to aspirationalise our \n",
      "offerings so this vendor is incompetent , nor organic growth. Dog and pony show. Turn \n",
      "the ship. If you want to motivate these clowns, try less carrot and more stick imagineer, \n",
      "but product market fit and we need to c rystallize a plan pro -sumer software for strategic \n",
      "fit programmatically.  \n",
      " \n",
      " \n"
     ]
    }
   ],
   "source": [
    "%pip install PyPDF2\n",
    "import PyPDF2\n",
    "# Open the PDF file\n",
    "pdf_file = open(\"Exercise_Files/find_the_Phone_Number.pdf\", 'rb')\n",
    "pdf_reader = PyPDF2.PdfReader(pdf_file)  # Create a PDF reader object\n",
    "page = pdf_reader.pages[0]\n",
    "print(page)  # Display the page object to confirm it's opened\n",
    "text = page.extract_text()\n",
    "print(text)  # Display the extracted text"
   ]
  },
  {
   "cell_type": "code",
   "execution_count": null,
   "metadata": {},
   "outputs": [
    {
     "name": "stdout",
     "output_type": "stream",
     "text": [
      "{'/Author': 'Jose Portilla', '/Creator': 'Microsoft Word', '/CreationDate': \"D:20200615180849-07'00'\", '/ModDate': \"D:20200615180849-07'00'\"}\n"
     ]
    }
   ],
   "source": [
    "# read pdf file attributes from DublinCore\n",
    "metadata = pdf_reader.metadata\n",
    "print(metadata)  # Display the metadata of the PDF file"
   ]
  }
 ],
 "metadata": {
  "anaconda-cloud": {},
  "kernelspec": {
   "display_name": "Python 3",
   "language": "python",
   "name": "python3"
  },
  "language_info": {
   "codemirror_mode": {
    "name": "ipython",
    "version": 3
   },
   "file_extension": ".py",
   "mimetype": "text/x-python",
   "name": "python",
   "nbconvert_exporter": "python",
   "pygments_lexer": "ipython3",
   "version": "3.11.13"
  }
 },
 "nbformat": 4,
 "nbformat_minor": 2
}
